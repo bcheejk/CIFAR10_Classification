{
  "cells": [
    {
      "cell_type": "code",
      "execution_count": null,
      "metadata": {
        "_cell_guid": "b1076dfc-b9ad-4769-8c92-a6c4dae69d19",
        "_uuid": "8f2839f25d086af736a60e9eeb907d3b93b6e0e5",
        "execution": {
          "iopub.execute_input": "2024-03-18T06:52:41.214293Z",
          "iopub.status.busy": "2024-03-18T06:52:41.213642Z",
          "iopub.status.idle": "2024-03-18T06:52:41.595828Z",
          "shell.execute_reply": "2024-03-18T06:52:41.594824Z",
          "shell.execute_reply.started": "2024-03-18T06:52:41.214262Z"
        },
        "id": "I-MwM1wMA31G",
        "trusted": true
      },
      "outputs": [],
      "source": [
        "# This Python 3 environment comes with many helpful analytics libraries installed\n",
        "# It is defined by the kaggle/python Docker image: https://github.com/kaggle/docker-python\n",
        "# For example, here's several helpful packages to load\n",
        "\n",
        "import numpy as np # linear algebra\n",
        "import pandas as pd # data processing, CSV file I/O (e.g. pd.read_csv)\n",
        "\n",
        "# Input data files are available in the read-only \"../input/\" directory\n",
        "# For example, running this (by clicking run or pressing Shift+Enter) will list all files under the input directory\n",
        "\n",
        "import os\n",
        "for dirname, _, filenames in os.walk('/kaggle/input'):\n",
        "    for filename in filenames:\n",
        "        print(os.path.join(dirname, filename))\n",
        "\n",
        "# You can write up to 20GB to the current directory (/kaggle/working/) that gets preserved as output when you create a version using \"Save & Run All\"\n",
        "# You can also write temporary files to /kaggle/temp/, but they won't be saved outside of the current session"
      ]
    },
    {
      "cell_type": "code",
      "execution_count": null,
      "metadata": {
        "execution": {
          "iopub.execute_input": "2024-03-18T09:31:35.628753Z",
          "iopub.status.busy": "2024-03-18T09:31:35.627998Z",
          "iopub.status.idle": "2024-03-18T09:31:35.632699Z",
          "shell.execute_reply": "2024-03-18T09:31:35.631782Z",
          "shell.execute_reply.started": "2024-03-18T09:31:35.628718Z"
        },
        "id": "8a-W9nNdA31I",
        "trusted": true
      },
      "outputs": [],
      "source": [
        "# pip show tensorflow"
      ]
    },
    {
      "cell_type": "code",
      "execution_count": null,
      "metadata": {
        "execution": {
          "iopub.execute_input": "2024-03-18T09:12:41.368152Z",
          "iopub.status.busy": "2024-03-18T09:12:41.367152Z",
          "iopub.status.idle": "2024-03-18T09:12:41.376485Z",
          "shell.execute_reply": "2024-03-18T09:12:41.375246Z",
          "shell.execute_reply.started": "2024-03-18T09:12:41.368108Z"
        },
        "id": "baJyK6WAA31I",
        "trusted": true
      },
      "outputs": [],
      "source": [
        "import tensorflow as tf\n",
        "from tensorflow.keras.applications import ResNet50V2\n",
        "from tensorflow.keras.layers import Dense, GlobalAveragePooling2D, UpSampling2D, Flatten, Concatenate\n",
        "from tensorflow.keras.layers import MaxPooling2D, Conv2D, BatchNormalization, Dropout\n",
        "from tensorflow.keras.models import Model, Sequential, load_model\n",
        "from tensorflow.keras.optimizers import SGD\n",
        "from tensorflow.keras.preprocessing.image import ImageDataGenerator\n",
        "from tensorflow.keras.callbacks import LearningRateScheduler, ReduceLROnPlateau, ProgbarLogger\n",
        "from tensorflow.keras.optimizers import Adam\n",
        "from tensorflow.keras.callbacks import EarlyStopping, ModelCheckpoint, Callback"
      ]
    },
    {
      "cell_type": "markdown",
      "metadata": {
        "id": "b-hSAnyzA31J"
      },
      "source": [
        "# Load CIFAR10 dataset"
      ]
    },
    {
      "cell_type": "code",
      "execution_count": null,
      "metadata": {
        "execution": {
          "iopub.execute_input": "2024-03-18T06:53:24.102959Z",
          "iopub.status.busy": "2024-03-18T06:53:24.102286Z",
          "iopub.status.idle": "2024-03-18T06:53:24.107458Z",
          "shell.execute_reply": "2024-03-18T06:53:24.106506Z",
          "shell.execute_reply.started": "2024-03-18T06:53:24.102928Z"
        },
        "id": "UlS4owktA31K",
        "trusted": true
      },
      "outputs": [],
      "source": [
        "cifar10 = tf.keras.datasets.cifar10"
      ]
    },
    {
      "cell_type": "code",
      "execution_count": null,
      "metadata": {
        "colab": {
          "base_uri": "https://localhost:8080/"
        },
        "execution": {
          "iopub.execute_input": "2024-03-18T06:53:24.281942Z",
          "iopub.status.busy": "2024-03-18T06:53:24.281393Z",
          "iopub.status.idle": "2024-03-18T06:53:32.089898Z",
          "shell.execute_reply": "2024-03-18T06:53:32.089080Z",
          "shell.execute_reply.started": "2024-03-18T06:53:24.281916Z"
        },
        "id": "SMNg4z2tA31L",
        "outputId": "649db1ce-ad60-421f-aa15-4eb7e33ac777",
        "trusted": true
      },
      "outputs": [
        {
          "name": "stdout",
          "output_type": "stream",
          "text": [
            "Downloading data from https://www.cs.toronto.edu/~kriz/cifar-10-python.tar.gz\n",
            "170498071/170498071 [==============================] - 4s 0us/step\n"
          ]
        }
      ],
      "source": [
        "(x_train, y_train), (x_test, y_test) = cifar10.load_data()"
      ]
    },
    {
      "cell_type": "code",
      "execution_count": null,
      "metadata": {
        "execution": {
          "iopub.execute_input": "2024-03-18T06:53:32.091586Z",
          "iopub.status.busy": "2024-03-18T06:53:32.091300Z",
          "iopub.status.idle": "2024-03-18T06:53:32.278577Z",
          "shell.execute_reply": "2024-03-18T06:53:32.277750Z",
          "shell.execute_reply.started": "2024-03-18T06:53:32.091561Z"
        },
        "id": "peq8dC4yA31M",
        "trusted": true
      },
      "outputs": [],
      "source": [
        "x_train = x_train.astype('float32')\n",
        "x_test= x_test.astype('float32')"
      ]
    },
    {
      "cell_type": "code",
      "execution_count": null,
      "metadata": {
        "execution": {
          "iopub.execute_input": "2024-03-18T06:53:32.280147Z",
          "iopub.status.busy": "2024-03-18T06:53:32.279793Z",
          "iopub.status.idle": "2024-03-18T06:53:32.387334Z",
          "shell.execute_reply": "2024-03-18T06:53:32.386562Z",
          "shell.execute_reply.started": "2024-03-18T06:53:32.280104Z"
        },
        "id": "FOLxQlycA31M",
        "trusted": true
      },
      "outputs": [],
      "source": [
        "x_min = x_train.min()\n",
        "x_max = x_train.max()"
      ]
    },
    {
      "cell_type": "markdown",
      "metadata": {
        "id": "GOdV9ilUA31N"
      },
      "source": [
        "###Normalization to [0,1]"
      ]
    },
    {
      "cell_type": "code",
      "execution_count": null,
      "metadata": {
        "execution": {
          "iopub.execute_input": "2024-03-18T06:53:32.389634Z",
          "iopub.status.busy": "2024-03-18T06:53:32.389334Z",
          "iopub.status.idle": "2024-03-18T06:53:32.689227Z",
          "shell.execute_reply": "2024-03-18T06:53:32.688233Z",
          "shell.execute_reply.started": "2024-03-18T06:53:32.389609Z"
        },
        "id": "Oe48BcULA31N",
        "trusted": true
      },
      "outputs": [],
      "source": [
        "x_train_normalized = (x_train - x_min)/(x_max - x_min) \n",
        "x_test_normalized = (x_test - x_min)/(x_max - x_min)"
      ]
    },
    {
      "cell_type": "code",
      "execution_count": null,
      "metadata": {
        "colab": {
          "base_uri": "https://localhost:8080/"
        },
        "execution": {
          "iopub.execute_input": "2024-03-18T06:53:32.691048Z",
          "iopub.status.busy": "2024-03-18T06:53:32.690676Z",
          "iopub.status.idle": "2024-03-18T06:53:32.696626Z",
          "shell.execute_reply": "2024-03-18T06:53:32.695695Z",
          "shell.execute_reply.started": "2024-03-18T06:53:32.691011Z"
        },
        "id": "JXQQ7brQA31N",
        "outputId": "a45d9df6-4bfa-4e37-b9ce-d9387618ca46",
        "trusted": true
      },
      "outputs": [
        {
          "name": "stdout",
          "output_type": "stream",
          "text": [
            "Shape of x_train_normalized: (50000, 32, 32, 3)\n",
            "Shape of x_test_normalized: (10000, 32, 32, 3)\n"
          ]
        }
      ],
      "source": [
        "print(\"Shape of x_train_normalized:\", x_train_normalized.shape)\n",
        "print(\"Shape of x_test_normalized:\", x_test_normalized.shape)"
      ]
    },
    {
      "cell_type": "markdown",
      "metadata": {
        "id": "NOLUTUqPA31O"
      },
      "source": [
        "###Normalization to normal distribution"
      ]
    },
    {
      "cell_type": "code",
      "execution_count": null,
      "metadata": {
        "execution": {
          "iopub.execute_input": "2024-03-18T06:53:32.697997Z",
          "iopub.status.busy": "2024-03-18T06:53:32.697758Z",
          "iopub.status.idle": "2024-03-18T06:53:33.118359Z",
          "shell.execute_reply": "2024-03-18T06:53:33.117376Z",
          "shell.execute_reply.started": "2024-03-18T06:53:32.697976Z"
        },
        "id": "U7wyLZJHA31P",
        "trusted": true
      },
      "outputs": [],
      "source": [
        "# Calculate per-channel mean and standard deviation on the training set\n",
        "channel_means = x_train.mean(axis=(0,1,2))\n",
        "channel_stds = x_train.std(axis=(0,1,2))"
      ]
    },
    {
      "cell_type": "code",
      "execution_count": null,
      "metadata": {
        "execution": {
          "iopub.execute_input": "2024-03-18T06:53:33.120391Z",
          "iopub.status.busy": "2024-03-18T06:53:33.119645Z",
          "iopub.status.idle": "2024-03-18T06:53:33.406634Z",
          "shell.execute_reply": "2024-03-18T06:53:33.405828Z",
          "shell.execute_reply.started": "2024-03-18T06:53:33.120355Z"
        },
        "id": "5gLVq_vUA31P",
        "trusted": true
      },
      "outputs": [],
      "source": [
        "x_train_normalized1 = (x_train - channel_means) / channel_stds\n",
        "x_test_normalized1 = (x_test - channel_means) / channel_stds"
      ]
    },
    {
      "cell_type": "code",
      "execution_count": null,
      "metadata": {
        "colab": {
          "base_uri": "https://localhost:8080/"
        },
        "id": "5Larc4oGSVqO",
        "outputId": "0d08bb75-19b1-49ab-dafe-433bb3676add"
      },
      "outputs": [
        {
          "name": "stdout",
          "output_type": "stream",
          "text": [
            "Shape of x_train_normalized: (50000, 32, 32, 3)\n",
            "Shape of x_test_normalized: (10000, 32, 32, 3)\n"
          ]
        }
      ],
      "source": [
        "print(\"Shape of x_train_normalized:\", x_train_normalized1.shape)\n",
        "print(\"Shape of x_test_normalized:\", x_test_normalized1.shape)"
      ]
    },
    {
      "cell_type": "code",
      "execution_count": null,
      "metadata": {
        "execution": {
          "iopub.execute_input": "2024-03-18T06:55:35.149788Z",
          "iopub.status.busy": "2024-03-18T06:55:35.149430Z",
          "iopub.status.idle": "2024-03-18T06:55:35.158386Z",
          "shell.execute_reply": "2024-03-18T06:55:35.157521Z",
          "shell.execute_reply.started": "2024-03-18T06:55:35.149759Z"
        },
        "id": "0Jpa70bYA31P",
        "trusted": true
      },
      "outputs": [],
      "source": [
        "from tensorflow.keras.utils import to_categorical"
      ]
    },
    {
      "cell_type": "code",
      "execution_count": null,
      "metadata": {
        "execution": {
          "iopub.execute_input": "2024-03-18T06:55:35.335151Z",
          "iopub.status.busy": "2024-03-18T06:55:35.334837Z",
          "iopub.status.idle": "2024-03-18T06:55:35.340756Z",
          "shell.execute_reply": "2024-03-18T06:55:35.339923Z",
          "shell.execute_reply.started": "2024-03-18T06:55:35.335107Z"
        },
        "id": "Z9vcMjROA31Q",
        "trusted": true
      },
      "outputs": [],
      "source": [
        "y_train_one_hot = to_categorical(y_train, num_classes=10)\n",
        "y_test_one_hot = to_categorical(y_test, num_classes=10)"
      ]
    },
    {
      "cell_type": "code",
      "execution_count": null,
      "metadata": {
        "colab": {
          "base_uri": "https://localhost:8080/"
        },
        "execution": {
          "iopub.status.busy": "2024-03-18T06:53:33.445052Z",
          "iopub.status.idle": "2024-03-18T06:53:33.445388Z",
          "shell.execute_reply": "2024-03-18T06:53:33.445223Z",
          "shell.execute_reply.started": "2024-03-18T06:53:33.445211Z"
        },
        "id": "pdyD7HnTA31R",
        "outputId": "80b3ebec-e0ba-4d9e-dabc-3b7f0ff1fd94",
        "trusted": true
      },
      "outputs": [
        {
          "data": {
            "text/plain": [
              "((50000, 10), (10000, 10))"
            ]
          },
          "execution_count": 12,
          "metadata": {},
          "output_type": "execute_result"
        }
      ],
      "source": [
        "y_train_one_hot.shape, y_test_one_hot.shape"
      ]
    },
    {
      "cell_type": "markdown",
      "metadata": {
        "id": "wWlNKPq8A31R"
      },
      "source": [
        "# Multi-Layer Perception"
      ]
    },
    {
      "cell_type": "code",
      "execution_count": null,
      "metadata": {
        "execution": {
          "iopub.execute_input": "2024-03-18T09:06:45.842882Z",
          "iopub.status.busy": "2024-03-18T09:06:45.842001Z",
          "iopub.status.idle": "2024-03-18T09:06:46.499830Z",
          "shell.execute_reply": "2024-03-18T09:06:46.499027Z",
          "shell.execute_reply.started": "2024-03-18T09:06:45.842850Z"
        },
        "id": "EaceC-fxA31R",
        "trusted": true
      },
      "outputs": [],
      "source": [
        "# MinMax Normalization Used\n",
        "x_train_flattened = x_train_normalized.reshape(x_train_normalized.shape[0], -1)\n",
        "x_test_flattened = x_test_normalized.reshape(x_test_normalized.shape[0], -1)"
      ]
    },
    {
      "cell_type": "markdown",
      "metadata": {
        "id": "e8iETz3VA31S"
      },
      "source": [
        "### First trial\n",
        "\n",
        "Simple two-layers with 128 nodes and 10 nodes for input and output layers."
      ]
    },
    {
      "cell_type": "code",
      "execution_count": null,
      "metadata": {
        "id": "B2825b9TA31S",
        "trusted": true
      },
      "outputs": [],
      "source": [
        "#Defines architecture of MLP\n",
        "model = Sequential([\n",
        "    Dense(128, activation='relu', input_shape=(x_train_flattened.shape[1],)),\n",
        "    Dense(10, activation='softmax')\n",
        "])\n",
        "#Training\n",
        "model.compile(optimizer='adam', loss='categorical_crossentropy', metrics=['accuracy'])"
      ]
    },
    {
      "cell_type": "code",
      "execution_count": null,
      "metadata": {
        "id": "ZNopbjd1Mksr"
      },
      "outputs": [],
      "source": [
        "early_stopping = EarlyStopping(monitor='val_accuracy', patience=3, restore_best_weights=True)"
      ]
    },
    {
      "cell_type": "code",
      "execution_count": null,
      "metadata": {
        "colab": {
          "base_uri": "https://localhost:8080/"
        },
        "id": "Cu6OG9EKA31T",
        "outputId": "b9c76c7c-ef4e-486c-e92f-45ce0b8df66a"
      },
      "outputs": [
        {
          "name": "stdout",
          "output_type": "stream",
          "text": [
            "Epoch 1/10\n",
            "1563/1563 [==============================] - 12s 7ms/step - loss: 1.8858 - accuracy: 0.3199 - val_loss: 1.7558 - val_accuracy: 0.3699\n",
            "Epoch 2/10\n",
            "1563/1563 [==============================] - 11s 7ms/step - loss: 1.7343 - accuracy: 0.3771 - val_loss: 1.7020 - val_accuracy: 0.3868\n",
            "Epoch 3/10\n",
            "1563/1563 [==============================] - 12s 7ms/step - loss: 1.6886 - accuracy: 0.3969 - val_loss: 1.6494 - val_accuracy: 0.4129\n",
            "Epoch 4/10\n",
            "1563/1563 [==============================] - 11s 7ms/step - loss: 1.6594 - accuracy: 0.4058 - val_loss: 1.6331 - val_accuracy: 0.4146\n",
            "Epoch 5/10\n",
            "1563/1563 [==============================] - 10s 7ms/step - loss: 1.6383 - accuracy: 0.4141 - val_loss: 1.6124 - val_accuracy: 0.4266\n",
            "Epoch 6/10\n",
            "1563/1563 [==============================] - 12s 8ms/step - loss: 1.6253 - accuracy: 0.4177 - val_loss: 1.6486 - val_accuracy: 0.4055\n",
            "Epoch 7/10\n",
            "1563/1563 [==============================] - 11s 7ms/step - loss: 1.6100 - accuracy: 0.4252 - val_loss: 1.6030 - val_accuracy: 0.4298\n",
            "Epoch 8/10\n",
            "1563/1563 [==============================] - 11s 7ms/step - loss: 1.6019 - accuracy: 0.4287 - val_loss: 1.5979 - val_accuracy: 0.4315\n",
            "Epoch 9/10\n",
            "1563/1563 [==============================] - 11s 7ms/step - loss: 1.5878 - accuracy: 0.4339 - val_loss: 1.6249 - val_accuracy: 0.4200\n",
            "Epoch 10/10\n",
            "1563/1563 [==============================] - 11s 7ms/step - loss: 1.5844 - accuracy: 0.4357 - val_loss: 1.6164 - val_accuracy: 0.4254\n",
            "313/313 [==============================] - 1s 2ms/step - loss: 1.6164 - accuracy: 0.4254\n",
            "Test accuracy: 42.54%\n"
          ]
        }
      ],
      "source": [
        "model.fit(x_train_flattened, y_train_one_hot, epochs=10, batch_size=32, validation_data=(x_test_flattened, y_test_one_hot))\n",
        "test_loss, test_acc = model.evaluate(x_test_flattened, y_test_one_hot, callbacks=[early_stopping])\n",
        "print(f'Test accuracy: {test_acc * 100:.2f}%')"
      ]
    },
    {
      "cell_type": "markdown",
      "metadata": {
        "id": "yve-HmIYA31U"
      },
      "source": [
        "### Second trial\n",
        "\n",
        "Increase number of nodes to 256 for input layer and experimented with Leaky ReLU activation function"
      ]
    },
    {
      "cell_type": "code",
      "execution_count": null,
      "metadata": {
        "colab": {
          "base_uri": "https://localhost:8080/"
        },
        "id": "4TKwx-oHA31U",
        "outputId": "fcb627b0-4eab-40b5-c3f0-9d0c690e37a0"
      },
      "outputs": [
        {
          "name": "stdout",
          "output_type": "stream",
          "text": [
            "Epoch 1/10\n",
            "1563/1563 [==============================] - 23s 15ms/step - loss: 1.9688 - accuracy: 0.3119 - val_loss: 1.8291 - val_accuracy: 0.3413\n",
            "Epoch 2/10\n",
            "1563/1563 [==============================] - 21s 14ms/step - loss: 1.7818 - accuracy: 0.3699 - val_loss: 1.7732 - val_accuracy: 0.3586\n",
            "Epoch 3/10\n",
            "1563/1563 [==============================] - 21s 13ms/step - loss: 1.6969 - accuracy: 0.3987 - val_loss: 1.8521 - val_accuracy: 0.3542\n",
            "Epoch 4/10\n",
            "1563/1563 [==============================] - 21s 14ms/step - loss: 1.6511 - accuracy: 0.4183 - val_loss: 1.6266 - val_accuracy: 0.4238\n",
            "Epoch 5/10\n",
            "1563/1563 [==============================] - 21s 13ms/step - loss: 1.6023 - accuracy: 0.4329 - val_loss: 1.6264 - val_accuracy: 0.4251\n",
            "Epoch 6/10\n",
            "1563/1563 [==============================] - 20s 13ms/step - loss: 1.5730 - accuracy: 0.4414 - val_loss: 1.5571 - val_accuracy: 0.4405\n",
            "Epoch 7/10\n",
            "1563/1563 [==============================] - 22s 14ms/step - loss: 1.5375 - accuracy: 0.4548 - val_loss: 1.5802 - val_accuracy: 0.4507\n",
            "Epoch 8/10\n",
            "1563/1563 [==============================] - 20s 13ms/step - loss: 1.5105 - accuracy: 0.4648 - val_loss: 1.5901 - val_accuracy: 0.4427\n",
            "Epoch 9/10\n",
            "1563/1563 [==============================] - 20s 13ms/step - loss: 1.4841 - accuracy: 0.4754 - val_loss: 1.5062 - val_accuracy: 0.4702\n",
            "Epoch 10/10\n",
            "1563/1563 [==============================] - 21s 13ms/step - loss: 1.4707 - accuracy: 0.4789 - val_loss: 1.4969 - val_accuracy: 0.4674\n"
          ]
        },
        {
          "data": {
            "text/plain": [
              "<keras.src.callbacks.History at 0x7aae1f561e70>"
            ]
          },
          "execution_count": 18,
          "metadata": {},
          "output_type": "execute_result"
        }
      ],
      "source": [
        "model1 = Sequential([\n",
        "    Dense(256, activation='leaky_relu', input_shape=(x_train_flattened.shape[1],)),\n",
        "    Dense(10, activation='softmax')\n",
        "])\n",
        "\n",
        "model1.compile(optimizer='adam', loss='categorical_crossentropy', metrics=['accuracy'])\n",
        "model1.fit(x_train_flattened, y_train_one_hot, epochs=10, batch_size=32, validation_data=(x_test_flattened, y_test_one_hot),\n",
        "           callbacks=[early_stopping])"
      ]
    },
    {
      "cell_type": "code",
      "execution_count": null,
      "metadata": {
        "colab": {
          "base_uri": "https://localhost:8080/"
        },
        "id": "aAT3tGCDA31U",
        "outputId": "faaa5906-1054-414f-f271-7191dd38a26c"
      },
      "outputs": [
        {
          "name": "stdout",
          "output_type": "stream",
          "text": [
            "313/313 [==============================] - 1s 3ms/step - loss: 1.4969 - accuracy: 0.4674\n",
            "Test accuracy: 46.74%\n"
          ]
        }
      ],
      "source": [
        "test_loss1, test_acc1 = model1.evaluate(x_test_flattened, y_test_one_hot)\n",
        "print(f'Test accuracy: {test_acc1 * 100:.2f}%')"
      ]
    },
    {
      "cell_type": "markdown",
      "metadata": {
        "id": "gq2ngxuAA31V"
      },
      "source": [
        "### Third trial\n",
        "\n",
        "Increase number of layers to three layers with 256, 128 & 10 nodes respectively. Experimented with Tanh activation function"
      ]
    },
    {
      "cell_type": "code",
      "execution_count": null,
      "metadata": {
        "colab": {
          "base_uri": "https://localhost:8080/"
        },
        "id": "UkU7bTsvA31V",
        "outputId": "ec923222-e087-48e6-96ec-633edca76947"
      },
      "outputs": [
        {
          "name": "stdout",
          "output_type": "stream",
          "text": [
            "Epoch 1/10\n",
            "1563/1563 [==============================] - 22s 14ms/step - loss: 1.8991 - accuracy: 0.3192 - val_loss: 1.7148 - val_accuracy: 0.3914\n",
            "Epoch 2/10\n",
            "1563/1563 [==============================] - 22s 14ms/step - loss: 1.7140 - accuracy: 0.3872 - val_loss: 1.6771 - val_accuracy: 0.3895\n",
            "Epoch 3/10\n",
            "1563/1563 [==============================] - 22s 14ms/step - loss: 1.6338 - accuracy: 0.4154 - val_loss: 1.6470 - val_accuracy: 0.4294\n",
            "Epoch 4/10\n",
            "1563/1563 [==============================] - 20s 13ms/step - loss: 1.5805 - accuracy: 0.4381 - val_loss: 1.5945 - val_accuracy: 0.4285\n",
            "Epoch 5/10\n",
            "1563/1563 [==============================] - 22s 14ms/step - loss: 1.5454 - accuracy: 0.4499 - val_loss: 1.6567 - val_accuracy: 0.4203\n",
            "Epoch 6/10\n",
            "1563/1563 [==============================] - 22s 14ms/step - loss: 1.5005 - accuracy: 0.4659 - val_loss: 1.5441 - val_accuracy: 0.4498\n",
            "Epoch 7/10\n",
            "1563/1563 [==============================] - 21s 13ms/step - loss: 1.4779 - accuracy: 0.4732 - val_loss: 1.4775 - val_accuracy: 0.4659\n",
            "Epoch 8/10\n",
            "1563/1563 [==============================] - 21s 14ms/step - loss: 1.4476 - accuracy: 0.4869 - val_loss: 1.4895 - val_accuracy: 0.4679\n",
            "Epoch 9/10\n",
            "1563/1563 [==============================] - 21s 14ms/step - loss: 1.4252 - accuracy: 0.4921 - val_loss: 1.4876 - val_accuracy: 0.4787\n",
            "Epoch 10/10\n",
            "1563/1563 [==============================] - 19s 12ms/step - loss: 1.3957 - accuracy: 0.5023 - val_loss: 1.4792 - val_accuracy: 0.4781\n"
          ]
        },
        {
          "data": {
            "text/plain": [
              "<keras.src.callbacks.History at 0x7aaed89d1ab0>"
            ]
          },
          "execution_count": 20,
          "metadata": {},
          "output_type": "execute_result"
        }
      ],
      "source": [
        "model2 = Sequential([\n",
        "    Dense(256, activation='tanh', input_shape=(x_train_flattened.shape[1],)),\n",
        "    Dense(128, activation='tanh'),\n",
        "    Dense(10, activation='softmax')\n",
        "])\n",
        "\n",
        "model2.compile(optimizer='adam', loss='categorical_crossentropy', metrics=['accuracy'])\n",
        "model2.fit(x_train_flattened, y_train_one_hot, epochs=10, batch_size=32, validation_data=(x_test_flattened, y_test_one_hot),\n",
        "           callbacks=[early_stopping])"
      ]
    },
    {
      "cell_type": "code",
      "execution_count": null,
      "metadata": {
        "colab": {
          "base_uri": "https://localhost:8080/"
        },
        "id": "I9PUWn75A31V",
        "outputId": "81ca9bcc-9f99-4192-dae1-50c57508c899"
      },
      "outputs": [
        {
          "name": "stdout",
          "output_type": "stream",
          "text": [
            "313/313 [==============================] - 1s 3ms/step - loss: 1.4792 - accuracy: 0.4781\n",
            "Test accuracy: 47.81%\n"
          ]
        }
      ],
      "source": [
        "test_loss2, test_acc2 = model2.evaluate(x_test_flattened, y_test_one_hot)\n",
        "print(f'Test accuracy: {test_acc2 * 100:.2f}%')"
      ]
    },
    {
      "cell_type": "markdown",
      "metadata": {
        "id": "z978oPP7A31W"
      },
      "source": [
        "### Fourth trial\n",
        "\n",
        "Increase number of nodes for each layer to 512, 256 & 10 respectively, while using Leaky ReLU activation function."
      ]
    },
    {
      "cell_type": "code",
      "execution_count": null,
      "metadata": {
        "colab": {
          "base_uri": "https://localhost:8080/"
        },
        "id": "BijMzyNNA31W",
        "outputId": "c71283a8-2f7b-4ee3-fdc3-fc77cf1c43c8"
      },
      "outputs": [
        {
          "name": "stdout",
          "output_type": "stream",
          "text": [
            "Epoch 1/10\n",
            "1563/1563 [==============================] - 38s 24ms/step - loss: 1.9197 - accuracy: 0.3147 - val_loss: 1.8351 - val_accuracy: 0.3522\n",
            "Epoch 2/10\n",
            "1563/1563 [==============================] - 37s 24ms/step - loss: 1.7244 - accuracy: 0.3830 - val_loss: 1.6048 - val_accuracy: 0.4289\n",
            "Epoch 3/10\n",
            "1563/1563 [==============================] - 35s 22ms/step - loss: 1.6361 - accuracy: 0.4158 - val_loss: 1.6169 - val_accuracy: 0.4338\n",
            "Epoch 4/10\n",
            "1563/1563 [==============================] - 34s 22ms/step - loss: 1.5874 - accuracy: 0.4348 - val_loss: 1.5557 - val_accuracy: 0.4502\n",
            "Epoch 5/10\n",
            "1563/1563 [==============================] - 39s 25ms/step - loss: 1.5403 - accuracy: 0.4503 - val_loss: 1.5296 - val_accuracy: 0.4532\n",
            "Epoch 6/10\n",
            "1563/1563 [==============================] - 38s 24ms/step - loss: 1.5117 - accuracy: 0.4625 - val_loss: 1.5199 - val_accuracy: 0.4602\n",
            "Epoch 7/10\n",
            "1563/1563 [==============================] - 36s 23ms/step - loss: 1.4731 - accuracy: 0.4739 - val_loss: 1.5283 - val_accuracy: 0.4542\n",
            "Epoch 8/10\n",
            "1563/1563 [==============================] - 37s 24ms/step - loss: 1.4403 - accuracy: 0.4858 - val_loss: 1.4854 - val_accuracy: 0.4680\n",
            "Epoch 9/10\n",
            "1563/1563 [==============================] - 36s 23ms/step - loss: 1.4146 - accuracy: 0.4975 - val_loss: 1.4799 - val_accuracy: 0.4690\n",
            "Epoch 10/10\n",
            "1563/1563 [==============================] - 39s 25ms/step - loss: 1.3951 - accuracy: 0.5045 - val_loss: 1.4784 - val_accuracy: 0.4713\n",
            "313/313 [==============================] - 1s 5ms/step - loss: 1.4784 - accuracy: 0.4713\n"
          ]
        }
      ],
      "source": [
        "model5 = Sequential([\n",
        "    Dense(512, activation='leaky_relu', input_shape=(x_train_flattened.shape[1],)),\n",
        "    Dense(256, activation='leaky_relu'),\n",
        "    Dense(10, activation='softmax')\n",
        "])\n",
        "model5.compile(optimizer='adam', loss='categorical_crossentropy', metrics=['accuracy'])\n",
        "model5.fit(x_train_flattened, y_train_one_hot, epochs=10, batch_size=32, validation_data=(x_test_flattened, y_test_one_hot),\n",
        "           callbacks=[early_stopping])\n",
        "test_loss5, test_acc5 = model5.evaluate(x_test_flattened, y_test_one_hot)"
      ]
    },
    {
      "cell_type": "code",
      "execution_count": null,
      "metadata": {
        "colab": {
          "base_uri": "https://localhost:8080/"
        },
        "id": "DqxFw-nuA31W",
        "outputId": "3539b023-94c3-4746-bf5b-bdffff262997"
      },
      "outputs": [
        {
          "name": "stdout",
          "output_type": "stream",
          "text": [
            "Test accuracy: 47.13%\n"
          ]
        }
      ],
      "source": [
        "print(f'Test accuracy: {test_acc5 * 100:.2f}%')"
      ]
    },
    {
      "cell_type": "markdown",
      "metadata": {
        "id": "lL4uNnIsA31W"
      },
      "source": [
        "### Best Model - MLP\n",
        "\n",
        "Increase number of layers to four with 512, 256, 128 and 10 nodes respectively followed by batch normalization after each dense layer. Switched back to ReLU activation function"
      ]
    },
    {
      "cell_type": "code",
      "execution_count": null,
      "metadata": {
        "execution": {
          "iopub.execute_input": "2024-03-18T09:28:48.334811Z",
          "iopub.status.busy": "2024-03-18T09:28:48.334388Z",
          "iopub.status.idle": "2024-03-18T09:28:48.396537Z",
          "shell.execute_reply": "2024-03-18T09:28:48.395628Z",
          "shell.execute_reply.started": "2024-03-18T09:28:48.334767Z"
        },
        "id": "R7y48HGhA31X",
        "trusted": true
      },
      "outputs": [],
      "source": [
        "model9 = Sequential([\n",
        "    Dense(512, activation='relu', input_shape=(x_train_flattened.shape[1],)),\n",
        "    BatchNormalization(),\n",
        "    Dense(256, activation='relu'),\n",
        "    BatchNormalization(),\n",
        "    Dense(128, activation='relu'),\n",
        "    BatchNormalization(),\n",
        "    Dense(10, activation='softmax')\n",
        "])"
      ]
    },
    {
      "cell_type": "code",
      "execution_count": null,
      "metadata": {
        "execution": {
          "iopub.execute_input": "2024-03-18T09:27:32.350122Z",
          "iopub.status.busy": "2024-03-18T09:27:32.349767Z",
          "iopub.status.idle": "2024-03-18T09:27:32.354816Z",
          "shell.execute_reply": "2024-03-18T09:27:32.353909Z",
          "shell.execute_reply.started": "2024-03-18T09:27:32.350092Z"
        },
        "id": "nD3DchEJA31X",
        "trusted": true
      },
      "outputs": [],
      "source": [
        "early_stopping_MLP = EarlyStopping(monitor='val_accuracy', patience=5, restore_best_weights=True)"
      ]
    },
    {
      "cell_type": "code",
      "execution_count": null,
      "metadata": {
        "execution": {
          "iopub.execute_input": "2024-03-18T09:28:51.086536Z",
          "iopub.status.busy": "2024-03-18T09:28:51.085843Z",
          "iopub.status.idle": "2024-03-18T09:30:20.290481Z",
          "shell.execute_reply": "2024-03-18T09:30:20.289501Z",
          "shell.execute_reply.started": "2024-03-18T09:28:51.086503Z"
        },
        "id": "P7dk5FsVA31Y",
        "outputId": "96d4e04f-fedd-4215-e493-63d30c92d55f",
        "trusted": true
      },
      "outputs": [
        {
          "name": "stdout",
          "output_type": "stream",
          "text": [
            "Epoch 1/50\n",
            "\u001b[1m  60/1563\u001b[0m \u001b[37m━━━━━━━━━━━━━━━━━━━━\u001b[0m \u001b[1m3s\u001b[0m 3ms/step - accuracy: 0.2172 - loss: 2.4323"
          ]
        },
        {
          "name": "stderr",
          "output_type": "stream",
          "text": [
            "W0000 00:00:1710754135.849245     148 graph_launch.cc:671] Fallback to op-by-op mode because memset node breaks graph update\n"
          ]
        },
        {
          "name": "stdout",
          "output_type": "stream",
          "text": [
            "\u001b[1m1563/1563\u001b[0m \u001b[32m━━━━━━━━━━━━━━━━━━━━\u001b[0m\u001b[37m\u001b[0m \u001b[1m0s\u001b[0m 3ms/step - accuracy: 0.3381 - loss: 1.8759"
          ]
        },
        {
          "name": "stderr",
          "output_type": "stream",
          "text": [
            "W0000 00:00:1710754141.051562     147 graph_launch.cc:671] Fallback to op-by-op mode because memset node breaks graph update\n",
            "W0000 00:00:1710754141.833241     148 graph_launch.cc:671] Fallback to op-by-op mode because memset node breaks graph update\n"
          ]
        },
        {
          "name": "stdout",
          "output_type": "stream",
          "text": [
            "\u001b[1m1563/1563\u001b[0m \u001b[32m━━━━━━━━━━━━━━━━━━━━\u001b[0m\u001b[37m\u001b[0m \u001b[1m10s\u001b[0m 4ms/step - accuracy: 0.3382 - loss: 1.8759 - val_accuracy: 0.3159 - val_loss: 1.9527\n",
            "Epoch 2/50\n",
            "\u001b[1m  41/1563\u001b[0m \u001b[37m━━━━━━━━━━━━━━━━━━━━\u001b[0m \u001b[1m3s\u001b[0m 3ms/step - accuracy: 0.4112 - loss: 1.6736"
          ]
        },
        {
          "name": "stderr",
          "output_type": "stream",
          "text": [
            "W0000 00:00:1710754142.567383     146 graph_launch.cc:671] Fallback to op-by-op mode because memset node breaks graph update\n"
          ]
        },
        {
          "name": "stdout",
          "output_type": "stream",
          "text": [
            "\u001b[1m1563/1563\u001b[0m \u001b[32m━━━━━━━━━━━━━━━━━━━━\u001b[0m\u001b[37m\u001b[0m \u001b[1m5s\u001b[0m 3ms/step - accuracy: 0.4269 - loss: 1.6051 - val_accuracy: 0.4159 - val_loss: 1.6533\n",
            "Epoch 3/50\n",
            "\u001b[1m1563/1563\u001b[0m \u001b[32m━━━━━━━━━━━━━━━━━━━━\u001b[0m\u001b[37m\u001b[0m \u001b[1m5s\u001b[0m 3ms/step - accuracy: 0.4573 - loss: 1.5201 - val_accuracy: 0.4685 - val_loss: 1.4905\n",
            "Epoch 4/50\n",
            "\u001b[1m1563/1563\u001b[0m \u001b[32m━━━━━━━━━━━━━━━━━━━━\u001b[0m\u001b[37m\u001b[0m \u001b[1m5s\u001b[0m 3ms/step - accuracy: 0.4845 - loss: 1.4540 - val_accuracy: 0.4762 - val_loss: 1.4791\n",
            "Epoch 5/50\n",
            "\u001b[1m1563/1563\u001b[0m \u001b[32m━━━━━━━━━━━━━━━━━━━━\u001b[0m\u001b[37m\u001b[0m \u001b[1m5s\u001b[0m 3ms/step - accuracy: 0.4942 - loss: 1.4122 - val_accuracy: 0.4507 - val_loss: 1.5534\n",
            "Epoch 6/50\n",
            "\u001b[1m1563/1563\u001b[0m \u001b[32m━━━━━━━━━━━━━━━━━━━━\u001b[0m\u001b[37m\u001b[0m \u001b[1m5s\u001b[0m 3ms/step - accuracy: 0.5131 - loss: 1.3620 - val_accuracy: 0.4578 - val_loss: 1.5316\n",
            "Epoch 7/50\n",
            "\u001b[1m1563/1563\u001b[0m \u001b[32m━━━━━━━━━━━━━━━━━━━━\u001b[0m\u001b[37m\u001b[0m \u001b[1m5s\u001b[0m 3ms/step - accuracy: 0.5289 - loss: 1.3305 - val_accuracy: 0.4343 - val_loss: 1.6237\n",
            "Epoch 8/50\n",
            "\u001b[1m1563/1563\u001b[0m \u001b[32m━━━━━━━━━━━━━━━━━━━━\u001b[0m\u001b[37m\u001b[0m \u001b[1m5s\u001b[0m 3ms/step - accuracy: 0.5332 - loss: 1.3049 - val_accuracy: 0.4774 - val_loss: 1.4898\n",
            "Epoch 9/50\n",
            "\u001b[1m1563/1563\u001b[0m \u001b[32m━━━━━━━━━━━━━━━━━━━━\u001b[0m\u001b[37m\u001b[0m \u001b[1m5s\u001b[0m 3ms/step - accuracy: 0.5501 - loss: 1.2698 - val_accuracy: 0.5077 - val_loss: 1.4223\n",
            "Epoch 10/50\n",
            "\u001b[1m1563/1563\u001b[0m \u001b[32m━━━━━━━━━━━━━━━━━━━━\u001b[0m\u001b[37m\u001b[0m \u001b[1m4s\u001b[0m 3ms/step - accuracy: 0.5575 - loss: 1.2437 - val_accuracy: 0.5038 - val_loss: 1.4245\n",
            "Epoch 11/50\n",
            "\u001b[1m1563/1563\u001b[0m \u001b[32m━━━━━━━━━━━━━━━━━━━━\u001b[0m\u001b[37m\u001b[0m \u001b[1m5s\u001b[0m 3ms/step - accuracy: 0.5626 - loss: 1.2351 - val_accuracy: 0.4799 - val_loss: 1.4951\n",
            "Epoch 12/50\n",
            "\u001b[1m1563/1563\u001b[0m \u001b[32m━━━━━━━━━━━━━━━━━━━━\u001b[0m\u001b[37m\u001b[0m \u001b[1m5s\u001b[0m 3ms/step - accuracy: 0.5726 - loss: 1.2099 - val_accuracy: 0.4817 - val_loss: 1.4878\n",
            "Epoch 13/50\n",
            "\u001b[1m1563/1563\u001b[0m \u001b[32m━━━━━━━━━━━━━━━━━━━━\u001b[0m\u001b[37m\u001b[0m \u001b[1m4s\u001b[0m 3ms/step - accuracy: 0.5757 - loss: 1.1928 - val_accuracy: 0.5316 - val_loss: 1.3378\n",
            "Epoch 14/50\n",
            "\u001b[1m1563/1563\u001b[0m \u001b[32m━━━━━━━━━━━━━━━━━━━━\u001b[0m\u001b[37m\u001b[0m \u001b[1m5s\u001b[0m 3ms/step - accuracy: 0.5790 - loss: 1.1776 - val_accuracy: 0.4975 - val_loss: 1.4580\n",
            "Epoch 15/50\n",
            "\u001b[1m1563/1563\u001b[0m \u001b[32m━━━━━━━━━━━━━━━━━━━━\u001b[0m\u001b[37m\u001b[0m \u001b[1m5s\u001b[0m 3ms/step - accuracy: 0.5889 - loss: 1.1561 - val_accuracy: 0.4785 - val_loss: 1.4692\n",
            "Epoch 16/50\n",
            "\u001b[1m1563/1563\u001b[0m \u001b[32m━━━━━━━━━━━━━━━━━━━━\u001b[0m\u001b[37m\u001b[0m \u001b[1m5s\u001b[0m 3ms/step - accuracy: 0.5923 - loss: 1.1448 - val_accuracy: 0.5266 - val_loss: 1.3641\n",
            "Epoch 17/50\n",
            "\u001b[1m1563/1563\u001b[0m \u001b[32m━━━━━━━━━━━━━━━━━━━━\u001b[0m\u001b[37m\u001b[0m \u001b[1m5s\u001b[0m 3ms/step - accuracy: 0.5969 - loss: 1.1344 - val_accuracy: 0.4826 - val_loss: 1.5302\n",
            "Epoch 18/50\n",
            "\u001b[1m1563/1563\u001b[0m \u001b[32m━━━━━━━━━━━━━━━━━━━━\u001b[0m\u001b[37m\u001b[0m \u001b[1m5s\u001b[0m 3ms/step - accuracy: 0.6019 - loss: 1.1126 - val_accuracy: 0.5109 - val_loss: 1.4118\n"
          ]
        },
        {
          "data": {
            "text/plain": [
              "<keras.src.callbacks.history.History at 0x7c536869ec80>"
            ]
          },
          "execution_count": 101,
          "metadata": {},
          "output_type": "execute_result"
        }
      ],
      "source": [
        "model9.compile(optimizer=Adam(learning_rate=0.001), loss='categorical_crossentropy', metrics=['accuracy'])\n",
        "model9.fit(x_train_flattened, y_train_one_hot, epochs=50, batch_size=32, validation_data=(x_test_flattened, y_test_one_hot), callbacks=[early_stopping_MLP])"
      ]
    },
    {
      "cell_type": "code",
      "execution_count": null,
      "metadata": {
        "execution": {
          "iopub.execute_input": "2024-03-18T09:31:03.116588Z",
          "iopub.status.busy": "2024-03-18T09:31:03.116173Z",
          "iopub.status.idle": "2024-03-18T09:31:03.989739Z",
          "shell.execute_reply": "2024-03-18T09:31:03.988964Z",
          "shell.execute_reply.started": "2024-03-18T09:31:03.116555Z"
        },
        "id": "Q-7Aydy6A31Y",
        "outputId": "9e158976-19d1-445d-a12e-6f8994a76bbe",
        "trusted": true
      },
      "outputs": [
        {
          "name": "stdout",
          "output_type": "stream",
          "text": [
            "\u001b[1m313/313\u001b[0m \u001b[32m━━━━━━━━━━━━━━━━━━━━\u001b[0m\u001b[37m\u001b[0m \u001b[1m1s\u001b[0m 2ms/step - accuracy: 0.5358 - loss: 1.3260\n",
            "Test accuracy: 53.16%\n"
          ]
        }
      ],
      "source": [
        "test_loss, test_acc = model9.evaluate(x_test_flattened, y_test_one_hot)\n",
        "print(f'Test accuracy: {test_acc * 100:.2f}%')"
      ]
    },
    {
      "cell_type": "markdown",
      "metadata": {
        "id": "vVLlKy4SA31Y"
      },
      "source": [
        "# Convolutional Neural Network"
      ]
    },
    {
      "cell_type": "code",
      "execution_count": null,
      "metadata": {
        "execution": {
          "iopub.execute_input": "2024-03-18T08:56:39.536942Z",
          "iopub.status.busy": "2024-03-18T08:56:39.536600Z",
          "iopub.status.idle": "2024-03-18T08:56:39.648847Z",
          "shell.execute_reply": "2024-03-18T08:56:39.647896Z",
          "shell.execute_reply.started": "2024-03-18T08:56:39.536916Z"
        },
        "id": "uq6ueD_rA31Y",
        "trusted": true
      },
      "outputs": [],
      "source": [
        "model_CNN = Sequential([\n",
        "  # Convolutional layers\n",
        "  Conv2D(32, (3, 3), activation='relu', input_shape=(32, 32, 3), padding='same'),\n",
        "  BatchNormalization(),\n",
        "  Conv2D(32, (3, 3), activation='relu'),\n",
        "  BatchNormalization(),\n",
        "  MaxPooling2D((2, 2)),\n",
        "  Dropout(0.25),\n",
        "\n",
        "  # Convolutional layers\n",
        "  Conv2D(64, (3, 3), activation='relu'),\n",
        "  BatchNormalization(),\n",
        "  Conv2D(64, (3, 3), activation='relu'),\n",
        "  BatchNormalization(),\n",
        "  MaxPooling2D((2, 2)),\n",
        "  Dropout(0.25),\n",
        "\n",
        "  # Flatten and fully connected layers\n",
        "  Flatten(),\n",
        "  Dense(128, activation='relu'),\n",
        "  BatchNormalization(),\n",
        "  Dropout(0.5),\n",
        "  Dense(10, activation='softmax')\n",
        "])"
      ]
    },
    {
      "cell_type": "code",
      "execution_count": null,
      "metadata": {
        "execution": {
          "iopub.execute_input": "2024-03-18T09:39:26.160476Z",
          "iopub.status.busy": "2024-03-18T09:39:26.160003Z",
          "iopub.status.idle": "2024-03-18T09:39:26.165239Z",
          "shell.execute_reply": "2024-03-18T09:39:26.164276Z",
          "shell.execute_reply.started": "2024-03-18T09:39:26.160442Z"
        },
        "id": "T1hzBZ77A31Z",
        "trusted": true
      },
      "outputs": [],
      "source": [
        "early_stopping_CNN = EarlyStopping(monitor='val_accuracy', patience=5, restore_best_weights=True)"
      ]
    },
    {
      "cell_type": "code",
      "execution_count": null,
      "metadata": {
        "execution": {
          "iopub.execute_input": "2024-03-18T09:39:30.953490Z",
          "iopub.status.busy": "2024-03-18T09:39:30.953108Z",
          "iopub.status.idle": "2024-03-18T09:41:47.227909Z",
          "shell.execute_reply": "2024-03-18T09:41:47.226940Z",
          "shell.execute_reply.started": "2024-03-18T09:39:30.953459Z"
        },
        "id": "rM5ra4OcA31Z",
        "outputId": "c5cae4a8-96bd-4194-ff81-1048449565b6",
        "trusted": true
      },
      "outputs": [
        {
          "name": "stdout",
          "output_type": "stream",
          "text": [
            "Epoch 1/20\n",
            "\u001b[1m  30/1563\u001b[0m \u001b[37m━━━━━━━━━━━━━━━━━━━━\u001b[0m \u001b[1m8s\u001b[0m 5ms/step - accuracy: 0.8003 - loss: 0.5569"
          ]
        },
        {
          "name": "stderr",
          "output_type": "stream",
          "text": [
            "W0000 00:00:1710754781.383602     146 graph_launch.cc:671] Fallback to op-by-op mode because memset node breaks graph update\n"
          ]
        },
        {
          "name": "stdout",
          "output_type": "stream",
          "text": [
            "\u001b[1m1563/1563\u001b[0m \u001b[32m━━━━━━━━━━━━━━━━━━━━\u001b[0m\u001b[37m\u001b[0m \u001b[1m0s\u001b[0m 7ms/step - accuracy: 0.8208 - loss: 0.5067"
          ]
        },
        {
          "name": "stderr",
          "output_type": "stream",
          "text": [
            "W0000 00:00:1710754792.373574     148 graph_launch.cc:671] Fallback to op-by-op mode because memset node breaks graph update\n",
            "W0000 00:00:1710754793.440244     148 graph_launch.cc:671] Fallback to op-by-op mode because memset node breaks graph update\n"
          ]
        },
        {
          "name": "stdout",
          "output_type": "stream",
          "text": [
            "\u001b[1m1563/1563\u001b[0m \u001b[32m━━━━━━━━━━━━━━━━━━━━\u001b[0m\u001b[37m\u001b[0m \u001b[1m22s\u001b[0m 8ms/step - accuracy: 0.8208 - loss: 0.5067 - val_accuracy: 0.8054 - val_loss: 0.5656\n",
            "Epoch 2/20\n",
            "\u001b[1m  21/1563\u001b[0m \u001b[37m━━━━━━━━━━━━━━━━━━━━\u001b[0m \u001b[1m8s\u001b[0m 5ms/step - accuracy: 0.8353 - loss: 0.4638"
          ]
        },
        {
          "name": "stderr",
          "output_type": "stream",
          "text": [
            "W0000 00:00:1710754794.448872     149 graph_launch.cc:671] Fallback to op-by-op mode because memset node breaks graph update\n"
          ]
        },
        {
          "name": "stdout",
          "output_type": "stream",
          "text": [
            "\u001b[1m1563/1563\u001b[0m \u001b[32m━━━━━━━━━━━━━━━━━━━━\u001b[0m\u001b[37m\u001b[0m \u001b[1m6s\u001b[0m 4ms/step - accuracy: 0.8254 - loss: 0.4987 - val_accuracy: 0.7917 - val_loss: 0.6248\n",
            "Epoch 3/20\n",
            "\u001b[1m1563/1563\u001b[0m \u001b[32m━━━━━━━━━━━━━━━━━━━━\u001b[0m\u001b[37m\u001b[0m \u001b[1m6s\u001b[0m 4ms/step - accuracy: 0.8324 - loss: 0.4856 - val_accuracy: 0.8065 - val_loss: 0.5630\n",
            "Epoch 4/20\n",
            "\u001b[1m1563/1563\u001b[0m \u001b[32m━━━━━━━━━━━━━━━━━━━━\u001b[0m\u001b[37m\u001b[0m \u001b[1m6s\u001b[0m 4ms/step - accuracy: 0.8334 - loss: 0.4795 - val_accuracy: 0.8131 - val_loss: 0.5505\n",
            "Epoch 5/20\n",
            "\u001b[1m1563/1563\u001b[0m \u001b[32m━━━━━━━━━━━━━━━━━━━━\u001b[0m\u001b[37m\u001b[0m \u001b[1m6s\u001b[0m 4ms/step - accuracy: 0.8354 - loss: 0.4699 - val_accuracy: 0.8133 - val_loss: 0.5506\n",
            "Epoch 6/20\n",
            "\u001b[1m1563/1563\u001b[0m \u001b[32m━━━━━━━━━━━━━━━━━━━━\u001b[0m\u001b[37m\u001b[0m \u001b[1m6s\u001b[0m 4ms/step - accuracy: 0.8368 - loss: 0.4703 - val_accuracy: 0.8148 - val_loss: 0.5620\n",
            "Epoch 7/20\n",
            "\u001b[1m1563/1563\u001b[0m \u001b[32m━━━━━━━━━━━━━━━━━━━━\u001b[0m\u001b[37m\u001b[0m \u001b[1m6s\u001b[0m 4ms/step - accuracy: 0.8388 - loss: 0.4640 - val_accuracy: 0.8063 - val_loss: 0.5840\n",
            "Epoch 8/20\n",
            "\u001b[1m1563/1563\u001b[0m \u001b[32m━━━━━━━━━━━━━━━━━━━━\u001b[0m\u001b[37m\u001b[0m \u001b[1m6s\u001b[0m 4ms/step - accuracy: 0.8418 - loss: 0.4587 - val_accuracy: 0.8030 - val_loss: 0.6016\n",
            "Epoch 9/20\n",
            "\u001b[1m1563/1563\u001b[0m \u001b[32m━━━━━━━━━━━━━━━━━━━━\u001b[0m\u001b[37m\u001b[0m \u001b[1m6s\u001b[0m 4ms/step - accuracy: 0.8416 - loss: 0.4574 - val_accuracy: 0.8187 - val_loss: 0.5547\n",
            "Epoch 10/20\n",
            "\u001b[1m1563/1563\u001b[0m \u001b[32m━━━━━━━━━━━━━━━━━━━━\u001b[0m\u001b[37m\u001b[0m \u001b[1m6s\u001b[0m 4ms/step - accuracy: 0.8477 - loss: 0.4390 - val_accuracy: 0.8199 - val_loss: 0.5419\n",
            "Epoch 11/20\n",
            "\u001b[1m1563/1563\u001b[0m \u001b[32m━━━━━━━━━━━━━━━━━━━━\u001b[0m\u001b[37m\u001b[0m \u001b[1m6s\u001b[0m 4ms/step - accuracy: 0.8465 - loss: 0.4429 - val_accuracy: 0.8197 - val_loss: 0.5333\n",
            "Epoch 12/20\n",
            "\u001b[1m1563/1563\u001b[0m \u001b[32m━━━━━━━━━━━━━━━━━━━━\u001b[0m\u001b[37m\u001b[0m \u001b[1m6s\u001b[0m 4ms/step - accuracy: 0.8488 - loss: 0.4387 - val_accuracy: 0.8226 - val_loss: 0.5443\n",
            "Epoch 13/20\n",
            "\u001b[1m1563/1563\u001b[0m \u001b[32m━━━━━━━━━━━━━━━━━━━━\u001b[0m\u001b[37m\u001b[0m \u001b[1m6s\u001b[0m 4ms/step - accuracy: 0.8482 - loss: 0.4303 - val_accuracy: 0.7994 - val_loss: 0.6176\n",
            "Epoch 14/20\n",
            "\u001b[1m1563/1563\u001b[0m \u001b[32m━━━━━━━━━━━━━━━━━━━━\u001b[0m\u001b[37m\u001b[0m \u001b[1m6s\u001b[0m 4ms/step - accuracy: 0.8532 - loss: 0.4216 - val_accuracy: 0.8274 - val_loss: 0.5310\n",
            "Epoch 15/20\n",
            "\u001b[1m1563/1563\u001b[0m \u001b[32m━━━━━━━━━━━━━━━━━━━━\u001b[0m\u001b[37m\u001b[0m \u001b[1m6s\u001b[0m 4ms/step - accuracy: 0.8519 - loss: 0.4255 - val_accuracy: 0.8218 - val_loss: 0.5341\n",
            "Epoch 16/20\n",
            "\u001b[1m1563/1563\u001b[0m \u001b[32m━━━━━━━━━━━━━━━━━━━━\u001b[0m\u001b[37m\u001b[0m \u001b[1m6s\u001b[0m 4ms/step - accuracy: 0.8517 - loss: 0.4257 - val_accuracy: 0.8036 - val_loss: 0.6018\n",
            "Epoch 17/20\n",
            "\u001b[1m1563/1563\u001b[0m \u001b[32m━━━━━━━━━━━━━━━━━━━━\u001b[0m\u001b[37m\u001b[0m \u001b[1m6s\u001b[0m 4ms/step - accuracy: 0.8532 - loss: 0.4163 - val_accuracy: 0.8083 - val_loss: 0.5732\n",
            "Epoch 18/20\n",
            "\u001b[1m1563/1563\u001b[0m \u001b[32m━━━━━━━━━━━━━━━━━━━━\u001b[0m\u001b[37m\u001b[0m \u001b[1m6s\u001b[0m 4ms/step - accuracy: 0.8567 - loss: 0.4120 - val_accuracy: 0.8218 - val_loss: 0.5389\n",
            "Epoch 19/20\n",
            "\u001b[1m1563/1563\u001b[0m \u001b[32m━━━━━━━━━━━━━━━━━━━━\u001b[0m\u001b[37m\u001b[0m \u001b[1m6s\u001b[0m 4ms/step - accuracy: 0.8579 - loss: 0.4028 - val_accuracy: 0.7976 - val_loss: 0.6260\n"
          ]
        },
        {
          "data": {
            "text/plain": [
              "<keras.src.callbacks.history.History at 0x7c536869e110>"
            ]
          },
          "execution_count": 105,
          "metadata": {},
          "output_type": "execute_result"
        }
      ],
      "source": [
        "model_CNN.compile(optimizer='adam', loss='categorical_crossentropy', metrics=['accuracy'])\n",
        "model_CNN.fit(x_train_normalized, y_train_one_hot, epochs=20, batch_size=32, validation_data=(x_test_normalized, y_test_one_hot),\n",
        "             callbacks=[early_stopping_CNN])"
      ]
    },
    {
      "cell_type": "code",
      "execution_count": null,
      "metadata": {
        "execution": {
          "iopub.execute_input": "2024-03-18T09:46:17.956082Z",
          "iopub.status.busy": "2024-03-18T09:46:17.955709Z",
          "iopub.status.idle": "2024-03-18T09:46:19.101165Z",
          "shell.execute_reply": "2024-03-18T09:46:19.100298Z",
          "shell.execute_reply.started": "2024-03-18T09:46:17.956052Z"
        },
        "id": "lSCs3pBeA31a",
        "outputId": "50d42847-4b46-4c98-a419-6167403a09ce",
        "trusted": true
      },
      "outputs": [
        {
          "name": "stdout",
          "output_type": "stream",
          "text": [
            "\u001b[1m313/313\u001b[0m \u001b[32m━━━━━━━━━━━━━━━━━━━━\u001b[0m\u001b[37m\u001b[0m \u001b[1m1s\u001b[0m 2ms/step - accuracy: 0.8294 - loss: 0.5304\n",
            "Test accuracy: 82.74%\n"
          ]
        }
      ],
      "source": [
        "test_loss, test_acc = model_CNN.evaluate(x_test_normalized, y_test_one_hot)\n",
        "print(f'Test accuracy: {test_acc*100:.2f}%')"
      ]
    },
    {
      "cell_type": "markdown",
      "metadata": {
        "id": "Bl2YBT9CA31a"
      },
      "source": [
        "## Pretrained ResNet50 architecture with transfer learning"
      ]
    },
    {
      "cell_type": "markdown",
      "metadata": {
        "id": "VJ3z8ExOIxBU"
      },
      "source": [
        "##### Convolutional layers were frozen to preserve the pre-training weights"
      ]
    },
    {
      "cell_type": "code",
      "execution_count": null,
      "metadata": {
        "execution": {
          "iopub.execute_input": "2024-03-18T08:17:02.639203Z",
          "iopub.status.busy": "2024-03-18T08:17:02.638365Z",
          "iopub.status.idle": "2024-03-18T08:17:03.765880Z",
          "shell.execute_reply": "2024-03-18T08:17:03.765059Z",
          "shell.execute_reply.started": "2024-03-18T08:17:02.639162Z"
        },
        "id": "sbaSyH6eA31a",
        "trusted": true
      },
      "outputs": [],
      "source": [
        "model = Sequential([\n",
        "    UpSampling2D(size=(7, 7), input_shape=(32, 32, 3)),     # Upsample images to the minimum size required by ResNet50\n",
        "    ResNet50V2(include_top=False, weights='imagenet', pooling='avg'), # Load ResNet50V2 with pretrained weights, without the top layer\n",
        "    Flatten(),\n",
        "    Dense(1024, activation='relu'),\n",
        "    Dense(10, activation='softmax')\n",
        "])"
      ]
    },
    {
      "cell_type": "code",
      "execution_count": null,
      "metadata": {
        "execution": {
          "iopub.execute_input": "2024-03-18T08:17:04.595352Z",
          "iopub.status.busy": "2024-03-18T08:17:04.594979Z",
          "iopub.status.idle": "2024-03-18T08:17:04.604303Z",
          "shell.execute_reply": "2024-03-18T08:17:04.603369Z",
          "shell.execute_reply.started": "2024-03-18T08:17:04.595310Z"
        },
        "id": "R4YQHJkmA31a",
        "trusted": true
      },
      "outputs": [],
      "source": [
        "for layer in model.layers[:-3]:\n",
        "    layer.trainable = False"
      ]
    },
    {
      "cell_type": "code",
      "execution_count": null,
      "metadata": {
        "execution": {
          "iopub.execute_input": "2024-03-18T08:17:06.509825Z",
          "iopub.status.busy": "2024-03-18T08:17:06.509468Z",
          "iopub.status.idle": "2024-03-18T08:27:07.254148Z",
          "shell.execute_reply": "2024-03-18T08:27:07.253178Z",
          "shell.execute_reply.started": "2024-03-18T08:17:06.509796Z"
        },
        "id": "eCQjo5XyA31b",
        "outputId": "ad0ed417-dc93-464a-e853-e23359c6cf1a",
        "trusted": true
      },
      "outputs": [
        {
          "name": "stdout",
          "output_type": "stream",
          "text": [
            "Epoch 1/10\n",
            "\u001b[1m  1/782\u001b[0m \u001b[37m━━━━━━━━━━━━━━━━━━━━\u001b[0m \u001b[1m1:58:53\u001b[0m 9s/step - accuracy: 0.1406 - loss: 2.7640"
          ]
        },
        {
          "name": "stderr",
          "output_type": "stream",
          "text": [
            "W0000 00:00:1710749837.277927     148 graph_launch.cc:671] Fallback to op-by-op mode because memset node breaks graph update\n"
          ]
        },
        {
          "name": "stdout",
          "output_type": "stream",
          "text": [
            "\u001b[1m782/782\u001b[0m \u001b[32m━━━━━━━━━━━━━━━━━━━━\u001b[0m\u001b[37m\u001b[0m \u001b[1m0s\u001b[0m 128ms/step - accuracy: 0.8039 - loss: 0.5946"
          ]
        },
        {
          "name": "stderr",
          "output_type": "stream",
          "text": [
            "W0000 00:00:1710749937.583057     148 graph_launch.cc:671] Fallback to op-by-op mode because memset node breaks graph update\n",
            "W0000 00:00:1710749941.542360     146 graph_launch.cc:671] Fallback to op-by-op mode because memset node breaks graph update\n"
          ]
        },
        {
          "name": "stdout",
          "output_type": "stream",
          "text": [
            "\u001b[1m782/782\u001b[0m \u001b[32m━━━━━━━━━━━━━━━━━━━━\u001b[0m\u001b[37m\u001b[0m \u001b[1m135s\u001b[0m 161ms/step - accuracy: 0.8039 - loss: 0.5944 - val_accuracy: 0.8480 - val_loss: 0.4319\n",
            "Epoch 2/10\n",
            "\u001b[1m  1/782\u001b[0m \u001b[37m━━━━━━━━━━━━━━━━━━━━\u001b[0m \u001b[1m2:01\u001b[0m 156ms/step - accuracy: 0.7969 - loss: 0.4365"
          ]
        },
        {
          "name": "stderr",
          "output_type": "stream",
          "text": [
            "W0000 00:00:1710749962.965122     147 graph_launch.cc:671] Fallback to op-by-op mode because memset node breaks graph update\n"
          ]
        },
        {
          "name": "stdout",
          "output_type": "stream",
          "text": [
            "\u001b[1m782/782\u001b[0m \u001b[32m━━━━━━━━━━━━━━━━━━━━\u001b[0m\u001b[37m\u001b[0m \u001b[1m117s\u001b[0m 149ms/step - accuracy: 0.8948 - loss: 0.3005 - val_accuracy: 0.8635 - val_loss: 0.4049\n",
            "Epoch 3/10\n",
            "\u001b[1m782/782\u001b[0m \u001b[32m━━━━━━━━━━━━━━━━━━━━\u001b[0m\u001b[37m\u001b[0m \u001b[1m116s\u001b[0m 148ms/step - accuracy: 0.9180 - loss: 0.2301 - val_accuracy: 0.8655 - val_loss: 0.4089\n",
            "Epoch 4/10\n",
            "\u001b[1m782/782\u001b[0m \u001b[32m━━━━━━━━━━━━━━━━━━━━\u001b[0m\u001b[37m\u001b[0m \u001b[1m116s\u001b[0m 148ms/step - accuracy: 0.9404 - loss: 0.1685 - val_accuracy: 0.8744 - val_loss: 0.4118\n",
            "Epoch 5/10\n",
            "\u001b[1m782/782\u001b[0m \u001b[32m━━━━━━━━━━━━━━━━━━━━\u001b[0m\u001b[37m\u001b[0m \u001b[1m116s\u001b[0m 148ms/step - accuracy: 0.9616 - loss: 0.1112 - val_accuracy: 0.8688 - val_loss: 0.4461\n"
          ]
        },
        {
          "data": {
            "text/plain": [
              "<keras.src.callbacks.history.History at 0x7c53f1f5e230>"
            ]
          },
          "execution_count": 50,
          "metadata": {},
          "output_type": "execute_result"
        }
      ],
      "source": [
        "model.compile(optimizer=Adam(learning_rate=0.001), loss='categorical_crossentropy', metrics=['accuracy'])\n",
        "model.fit(x_train_normalized, y_train_one_hot, batch_size=64, epochs=10, validation_data=(x_test_normalized, y_test_one_hot),\n",
        "          callbacks=[early_stopping1])"
      ]
    },
    {
      "cell_type": "markdown",
      "metadata": {
        "id": "SibSrLNQJCeW"
      },
      "source": [
        "#####Unfrozen the ResNet50 layers and continue training with a lower learning rate"
      ]
    },
    {
      "cell_type": "code",
      "execution_count": null,
      "metadata": {
        "execution": {
          "iopub.execute_input": "2024-03-18T08:27:07.256082Z",
          "iopub.status.busy": "2024-03-18T08:27:07.255789Z",
          "iopub.status.idle": "2024-03-18T08:27:07.265426Z",
          "shell.execute_reply": "2024-03-18T08:27:07.264501Z",
          "shell.execute_reply.started": "2024-03-18T08:27:07.256056Z"
        },
        "id": "ikQve0jAA31b",
        "trusted": true
      },
      "outputs": [],
      "source": [
        "for layer in model.layers[:-3]:\n",
        "    layer.trainable = True"
      ]
    },
    {
      "cell_type": "code",
      "execution_count": null,
      "metadata": {
        "execution": {
          "iopub.execute_input": "2024-03-18T08:27:07.267016Z",
          "iopub.status.busy": "2024-03-18T08:27:07.266648Z",
          "iopub.status.idle": "2024-03-18T08:27:07.276396Z",
          "shell.execute_reply": "2024-03-18T08:27:07.275565Z",
          "shell.execute_reply.started": "2024-03-18T08:27:07.266983Z"
        },
        "id": "A35nPNRNA31b",
        "trusted": true
      },
      "outputs": [],
      "source": [
        "early_stopping2 = EarlyStopping(monitor='val_loss', patience=3)\n",
        "model_checkpoint = ModelCheckpoint('Pretrained_model.keras', monitor='val_accuracy', save_best_only=True, verbose=1)"
      ]
    },
    {
      "cell_type": "code",
      "execution_count": null,
      "metadata": {
        "execution": {
          "iopub.execute_input": "2024-03-18T08:27:07.278647Z",
          "iopub.status.busy": "2024-03-18T08:27:07.278295Z",
          "iopub.status.idle": "2024-03-18T08:53:49.217292Z",
          "shell.execute_reply": "2024-03-18T08:53:49.216266Z",
          "shell.execute_reply.started": "2024-03-18T08:27:07.278614Z"
        },
        "id": "3jvO-g1EA31b",
        "outputId": "1e6eace0-f2d8-46d2-dee1-dadf23eeecec",
        "trusted": true
      },
      "outputs": [
        {
          "name": "stdout",
          "output_type": "stream",
          "text": [
            "Epoch 1/10\n"
          ]
        },
        {
          "name": "stderr",
          "output_type": "stream",
          "text": [
            "W0000 00:00:1710750473.346639     149 graph_launch.cc:671] Fallback to op-by-op mode because memset node breaks graph update\n"
          ]
        },
        {
          "name": "stdout",
          "output_type": "stream",
          "text": [
            "\u001b[1m782/782\u001b[0m \u001b[32m━━━━━━━━━━━━━━━━━━━━\u001b[0m\u001b[37m\u001b[0m \u001b[1m0s\u001b[0m 485ms/step - accuracy: 0.8876 - loss: 0.3585"
          ]
        },
        {
          "name": "stderr",
          "output_type": "stream",
          "text": [
            "W0000 00:00:1710750852.768613     148 graph_launch.cc:671] Fallback to op-by-op mode because memset node breaks graph update\n",
            "W0000 00:00:1710750856.824439     146 graph_launch.cc:671] Fallback to op-by-op mode because memset node breaks graph update\n"
          ]
        },
        {
          "name": "stdout",
          "output_type": "stream",
          "text": [
            "\n",
            "Epoch 1: val_accuracy improved from -inf to 0.93490, saving model to Pretrained_model.keras\n"
          ]
        },
        {
          "name": "stderr",
          "output_type": "stream",
          "text": [
            "W0000 00:00:1710750877.929919     146 graph_launch.cc:671] Fallback to op-by-op mode because memset node breaks graph update\n"
          ]
        },
        {
          "name": "stdout",
          "output_type": "stream",
          "text": [
            "\u001b[1m782/782\u001b[0m \u001b[32m━━━━━━━━━━━━━━━━━━━━\u001b[0m\u001b[37m\u001b[0m \u001b[1m450s\u001b[0m 519ms/step - accuracy: 0.8876 - loss: 0.3584 - val_accuracy: 0.9349 - val_loss: 0.2084\n",
            "Epoch 2/10\n",
            "\u001b[1m782/782\u001b[0m \u001b[32m━━━━━━━━━━━━━━━━━━━━\u001b[0m\u001b[37m\u001b[0m \u001b[1m0s\u001b[0m 466ms/step - accuracy: 0.9741 - loss: 0.0774\n",
            "Epoch 2: val_accuracy did not improve from 0.93490\n",
            "\u001b[1m782/782\u001b[0m \u001b[32m━━━━━━━━━━━━━━━━━━━━\u001b[0m\u001b[37m\u001b[0m \u001b[1m384s\u001b[0m 490ms/step - accuracy: 0.9740 - loss: 0.0774 - val_accuracy: 0.9266 - val_loss: 0.2377\n",
            "Epoch 3/10\n",
            "\u001b[1m782/782\u001b[0m \u001b[32m━━━━━━━━━━━━━━━━━━━━\u001b[0m\u001b[37m\u001b[0m \u001b[1m0s\u001b[0m 465ms/step - accuracy: 0.9825 - loss: 0.0546\n",
            "Epoch 3: val_accuracy did not improve from 0.93490\n",
            "\u001b[1m782/782\u001b[0m \u001b[32m━━━━━━━━━━━━━━━━━━━━\u001b[0m\u001b[37m\u001b[0m \u001b[1m383s\u001b[0m 490ms/step - accuracy: 0.9825 - loss: 0.0546 - val_accuracy: 0.9235 - val_loss: 0.2580\n",
            "Epoch 4/10\n",
            "\u001b[1m782/782\u001b[0m \u001b[32m━━━━━━━━━━━━━━━━━━━━\u001b[0m\u001b[37m\u001b[0m \u001b[1m0s\u001b[0m 465ms/step - accuracy: 0.9819 - loss: 0.0556\n",
            "Epoch 4: val_accuracy did not improve from 0.93490\n",
            "\u001b[1m782/782\u001b[0m \u001b[32m━━━━━━━━━━━━━━━━━━━━\u001b[0m\u001b[37m\u001b[0m \u001b[1m383s\u001b[0m 490ms/step - accuracy: 0.9819 - loss: 0.0556 - val_accuracy: 0.9270 - val_loss: 0.2624\n"
          ]
        },
        {
          "data": {
            "text/plain": [
              "<keras.src.callbacks.history.History at 0x7c53f1f5cca0>"
            ]
          },
          "execution_count": 53,
          "metadata": {},
          "output_type": "execute_result"
        }
      ],
      "source": [
        "model.compile(optimizer=Adam(learning_rate=0.0001), loss='categorical_crossentropy', metrics=['accuracy'])\n",
        "model.fit(x_train_normalized, y_train_one_hot, batch_size=64, epochs=10, validation_data=(x_test_normalized, y_test_one_hot),\n",
        "         callbacks=[early_stopping2, model_checkpoint])"
      ]
    },
    {
      "cell_type": "code",
      "execution_count": null,
      "metadata": {
        "execution": {
          "iopub.execute_input": "2024-03-18T08:53:58.026737Z",
          "iopub.status.busy": "2024-03-18T08:53:58.025989Z",
          "iopub.status.idle": "2024-03-18T08:54:29.154087Z",
          "shell.execute_reply": "2024-03-18T08:54:29.153155Z",
          "shell.execute_reply.started": "2024-03-18T08:53:58.026703Z"
        },
        "id": "1ER3owjhA31c",
        "outputId": "f4926d04-2c85-4ac5-bafe-5b95855bb485",
        "trusted": true
      },
      "outputs": [
        {
          "name": "stdout",
          "output_type": "stream",
          "text": [
            "\u001b[1m  3/313\u001b[0m \u001b[37m━━━━━━━━━━━━━━━━━━━━\u001b[0m \u001b[1m19s\u001b[0m 64ms/step - accuracy: 0.9271 - loss: 0.1633"
          ]
        },
        {
          "name": "stderr",
          "output_type": "stream",
          "text": [
            "W0000 00:00:1710752049.225165     148 graph_launch.cc:671] Fallback to op-by-op mode because memset node breaks graph update\n"
          ]
        },
        {
          "name": "stdout",
          "output_type": "stream",
          "text": [
            "\u001b[1m313/313\u001b[0m \u001b[32m━━━━━━━━━━━━━━━━━━━━\u001b[0m\u001b[37m\u001b[0m \u001b[1m31s\u001b[0m 64ms/step - accuracy: 0.9300 - loss: 0.2543\n",
            "Test accuracy: 92.70%\n"
          ]
        }
      ],
      "source": [
        "test_loss, test_acc = model.evaluate(x_test_normalized, y_test_one_hot)\n",
        "print(f'Test accuracy: {test_acc * 100:.2f}%')"
      ]
    },
    {
      "cell_type": "code",
      "execution_count": null,
      "metadata": {
        "execution": {
          "iopub.execute_input": "2024-03-18T08:16:49.030080Z",
          "iopub.status.busy": "2024-03-18T08:16:49.029410Z",
          "iopub.status.idle": "2024-03-18T08:16:49.034547Z",
          "shell.execute_reply": "2024-03-18T08:16:49.033373Z",
          "shell.execute_reply.started": "2024-03-18T08:16:49.030040Z"
        },
        "id": "EoJJgV6wA31c",
        "trusted": true
      },
      "outputs": [],
      "source": [
        "# loaded_model = load_model('/kaggle/working/Pre_trained.keras')"
      ]
    },
    {
      "cell_type": "code",
      "execution_count": null,
      "metadata": {
        "id": "HkMxSDwvA31d",
        "trusted": true
      },
      "outputs": [],
      "source": []
    },
    {
      "cell_type": "code",
      "execution_count": null,
      "metadata": {
        "id": "dItZuZCFA31d"
      },
      "outputs": [],
      "source": []
    },
    {
      "cell_type": "code",
      "execution_count": null,
      "metadata": {
        "id": "KBD4q68nA31d"
      },
      "outputs": [],
      "source": []
    }
  ],
  "metadata": {
    "colab": {
      "collapsed_sections": [
        "e8iETz3VA31S",
        "yve-HmIYA31U",
        "gq2ngxuAA31V",
        "z978oPP7A31W"
      ],
      "provenance": []
    },
    "kaggle": {
      "accelerator": "nvidiaTeslaT4",
      "dataSources": [],
      "dockerImageVersionId": 30664,
      "isGpuEnabled": true,
      "isInternetEnabled": true,
      "language": "python",
      "sourceType": "notebook"
    },
    "kernelspec": {
      "display_name": "Python 3",
      "language": "python",
      "name": "python3"
    },
    "language_info": {
      "codemirror_mode": {
        "name": "ipython",
        "version": 3
      },
      "file_extension": ".py",
      "mimetype": "text/x-python",
      "name": "python",
      "nbconvert_exporter": "python",
      "pygments_lexer": "ipython3",
      "version": "3.10.13"
    }
  },
  "nbformat": 4,
  "nbformat_minor": 0
}
